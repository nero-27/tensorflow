{
  "nbformat": 4,
  "nbformat_minor": 0,
  "metadata": {
    "colab": {
      "provenance": [],
      "gpuType": "T4",
      "authorship_tag": "ABX9TyMziiBRoJBSh7l0tnc+NeRv",
      "include_colab_link": true
    },
    "kernelspec": {
      "name": "python3",
      "display_name": "Python 3"
    },
    "language_info": {
      "name": "python"
    },
    "accelerator": "GPU"
  },
  "cells": [
    {
      "cell_type": "markdown",
      "metadata": {
        "id": "view-in-github",
        "colab_type": "text"
      },
      "source": [
        "<a href=\"https://colab.research.google.com/github/richa-patel-27/tensorflow/blob/master/tf_movie_reviews.ipynb\" target=\"_parent\"><img src=\"https://colab.research.google.com/assets/colab-badge.svg\" alt=\"Open In Colab\"/></a>"
      ]
    },
    {
      "cell_type": "code",
      "execution_count": 23,
      "metadata": {
        "colab": {
          "base_uri": "https://localhost:8080/",
          "height": 35
        },
        "id": "DyQcJEYoeoQJ",
        "outputId": "256af7c5-efca-4d54-e015-0a786b606ee9"
      },
      "outputs": [
        {
          "output_type": "execute_result",
          "data": {
            "text/plain": [
              "'\\nText classification\\n\\nClassification of movie reviews as positive or negative\\n'"
            ],
            "application/vnd.google.colaboratory.intrinsic+json": {
              "type": "string"
            }
          },
          "metadata": {},
          "execution_count": 23
        }
      ],
      "source": [
        "\"\"\"\n",
        "Text classification\n",
        "\n",
        "Classification of movie reviews as positive or negative\n",
        "\"\"\""
      ]
    },
    {
      "cell_type": "code",
      "source": [
        "import tensorflow as tf\n",
        "from tensorflow import keras\n",
        "import numpy as np\n"
      ],
      "metadata": {
        "id": "wiBxfnS7fmHN"
      },
      "execution_count": 24,
      "outputs": []
    },
    {
      "cell_type": "code",
      "source": [
        "data = keras.datasets.imdb"
      ],
      "metadata": {
        "id": "uqAMzkLhfyc4"
      },
      "execution_count": 25,
      "outputs": []
    },
    {
      "cell_type": "code",
      "source": [
        "(train_data, train_labels), (test_data, test_labels) = data.load_data(num_words=88000)  # consider 10000 most frequent words"
      ],
      "metadata": {
        "id": "SqNx7oxgf48X"
      },
      "execution_count": 26,
      "outputs": []
    },
    {
      "cell_type": "code",
      "source": [
        "# each word in a movie review is a number. So each review is an array of words.\n",
        "\n",
        "# Before that lets get the dictionary of word and number mapping\n",
        "\n",
        "word_index = data.get_word_index()\n",
        "word_index = {k : (c+3) for k,c in word_index.items()}  # we start at 3 coz we're leaving 0,1,2 for special characters\n",
        "word_index[\"<PAD>\"] = 0\n",
        "word_index[\"<START>\"] = 1\n",
        "word_index[\"<UNK>\"] = 2\n",
        "word_index[\"<UNUSED>\"] = 3"
      ],
      "metadata": {
        "id": "zD2C4JYRgf8_"
      },
      "execution_count": 27,
      "outputs": []
    },
    {
      "cell_type": "code",
      "source": [
        "# get a reverse dictionary of word_index (number: word)\n",
        "\n",
        "reversed_word_index = {value: key for (key, value) in word_index.items()}\n"
      ],
      "metadata": {
        "id": "keYaBT0vha5_"
      },
      "execution_count": 28,
      "outputs": []
    },
    {
      "cell_type": "code",
      "source": [
        "# function to get the words from a number represented review\n",
        "\n",
        "def decode_review(text):\n",
        "  return \" \".join([reversed_word_index.get(i, \"?\") for i in text])  # join \"?\" if i not found\n",
        "\n",
        "decode_review(train_data[0])"
      ],
      "metadata": {
        "colab": {
          "base_uri": "https://localhost:8080/",
          "height": 140
        },
        "id": "5FqJGm3-hd0q",
        "outputId": "ed21d626-8c2c-44ac-8093-0c9c4f364701"
      },
      "execution_count": 29,
      "outputs": [
        {
          "output_type": "execute_result",
          "data": {
            "text/plain": [
              "\"<START> this film was just brilliant casting location scenery story direction everyone's really suited the part they played and you could just imagine being there robert redford's is an amazing actor and now the same being director norman's father came from the same scottish island as myself so i loved the fact there was a real connection with this film the witty remarks throughout the film were great it was just brilliant so much that i bought the film as soon as it was released for retail and would recommend it to everyone to watch and the fly fishing was amazing really cried at the end it was so sad and you know what they say if you cry at a film it must have been good and this definitely was also congratulations to the two little boy's that played the part's of norman and paul they were just brilliant children are often left out of the praising list i think because the stars that play them all grown up are such a big profile for the whole film but these children are amazing and should be praised for what they have done don't you think the whole story was so lovely because it was true and was someone's life after all that was shared with us all\""
            ],
            "application/vnd.google.colaboratory.intrinsic+json": {
              "type": "string"
            }
          },
          "metadata": {},
          "execution_count": 29
        }
      ]
    },
    {
      "cell_type": "code",
      "source": [
        "# Each review contains different no of words. Hence normalizing it is tricky. Also we need to have a fixed input length for our neural networks.\n",
        "# So we fix a max length of string say 250. If review contains < 250 words, we do padding else we omit extra words\n",
        "\n",
        "# we use keras for that.\n",
        "# value - padding value, post - pad value to the end, maxlen - pad until len is 250\n",
        "# NOTE: this does not normalize the data\n",
        "\n",
        "train_data = keras.preprocessing.sequence.pad_sequences(train_data, value=word_index[\"<PAD>\"], padding='post', maxlen=250)\n",
        "test_data = keras.preprocessing.sequence.pad_sequences(test_data, value=word_index[\"<PAD>\"], padding='post', maxlen=250)\n"
      ],
      "metadata": {
        "id": "lhXZ73Hnj03-"
      },
      "execution_count": 30,
      "outputs": []
    },
    {
      "cell_type": "code",
      "source": [
        "# We will not normalize the data because we want same output numbers\n",
        "\n",
        "# Create the model\n",
        "\n",
        "model = keras.Sequential()\n",
        "model.add(keras.layers.Embedding(88000, 16))  # each word is represented as a vector of fixed length 16\n",
        "model.add(keras.layers.GlobalAveragePooling1D())  # scaling down the data\n",
        "model.add(keras.layers.Dense(16, activation=\"relu\"))\n",
        "model.add(keras.layers.Dense(1, activation=\"sigmoid\"))  # sigmoid - gives 0 or 1 depending on output percent. > 50 then 1 < 50% then 0\n",
        "\n",
        "model.summary()"
      ],
      "metadata": {
        "colab": {
          "base_uri": "https://localhost:8080/"
        },
        "id": "MMnqxIeTmF3L",
        "outputId": "2c710441-6194-456c-e702-de4772e8958b"
      },
      "execution_count": 31,
      "outputs": [
        {
          "output_type": "stream",
          "name": "stdout",
          "text": [
            "Model: \"sequential_1\"\n",
            "_________________________________________________________________\n",
            " Layer (type)                Output Shape              Param #   \n",
            "=================================================================\n",
            " embedding_1 (Embedding)     (None, None, 16)          1408000   \n",
            "                                                                 \n",
            " global_average_pooling1d_1   (None, 16)               0         \n",
            " (GlobalAveragePooling1D)                                        \n",
            "                                                                 \n",
            " dense_2 (Dense)             (None, 16)                272       \n",
            "                                                                 \n",
            " dense_3 (Dense)             (None, 1)                 17        \n",
            "                                                                 \n",
            "=================================================================\n",
            "Total params: 1,408,289\n",
            "Trainable params: 1,408,289\n",
            "Non-trainable params: 0\n",
            "_________________________________________________________________\n"
          ]
        }
      ]
    },
    {
      "cell_type": "code",
      "source": [
        "# Compile the model\n",
        "\n",
        "model.compile(\n",
        "    optimizer=\"adam\",\n",
        "    loss=\"binary_crossentropy\",   # output is binary 0 or 1\n",
        "    metrics=['accuracy'],\n",
        ")"
      ],
      "metadata": {
        "id": "22WyeG7IsXEi"
      },
      "execution_count": 32,
      "outputs": []
    },
    {
      "cell_type": "code",
      "source": [
        "# split the train data into train and validation data\n",
        "\n",
        "# validation data is used to check how tuning model parameters affects the accuracy of the model\n",
        "\n",
        "# 25000 entries in the data set\n",
        "\n",
        "x_val = train_data[:10000]  # use upto 10000 for validation\n",
        "x_train = train_data[10000:]  # use 10000 onwards for train\n",
        "\n",
        "y_val = train_labels[:10000]  # use upto 10000 for validation\n",
        "y_train = train_labels[10000:]  # use 10000 onwards for train"
      ],
      "metadata": {
        "id": "ijtrjMkps1Ao"
      },
      "execution_count": 33,
      "outputs": []
    },
    {
      "cell_type": "code",
      "source": [
        "# Train the model\n",
        "\n",
        "model.fit(\n",
        "    x_train,\n",
        "    y_train,\n",
        "    epochs = 40,\n",
        "    batch_size = 512,   # different batches of size 512 are used to train model at each epoch\n",
        "    validation_data = (x_val, y_val),\n",
        "    verbose = 1,\n",
        ")"
      ],
      "metadata": {
        "colab": {
          "base_uri": "https://localhost:8080/"
        },
        "id": "y4HTymUJt69R",
        "outputId": "e4b525cf-cb54-413e-aa8f-50a317c4a602"
      },
      "execution_count": 34,
      "outputs": [
        {
          "output_type": "stream",
          "name": "stdout",
          "text": [
            "Epoch 1/40\n",
            "30/30 [==============================] - 7s 190ms/step - loss: 0.6921 - accuracy: 0.5658 - val_loss: 0.6903 - val_accuracy: 0.5659\n",
            "Epoch 2/40\n",
            "30/30 [==============================] - 6s 214ms/step - loss: 0.6863 - accuracy: 0.6032 - val_loss: 0.6820 - val_accuracy: 0.7464\n",
            "Epoch 3/40\n",
            "30/30 [==============================] - 6s 196ms/step - loss: 0.6728 - accuracy: 0.7377 - val_loss: 0.6654 - val_accuracy: 0.7537\n",
            "Epoch 4/40\n",
            "30/30 [==============================] - 5s 175ms/step - loss: 0.6485 - accuracy: 0.7823 - val_loss: 0.6385 - val_accuracy: 0.7754\n",
            "Epoch 5/40\n",
            "30/30 [==============================] - 6s 182ms/step - loss: 0.6121 - accuracy: 0.8017 - val_loss: 0.6022 - val_accuracy: 0.7855\n",
            "Epoch 6/40\n",
            "30/30 [==============================] - 4s 146ms/step - loss: 0.5660 - accuracy: 0.8274 - val_loss: 0.5606 - val_accuracy: 0.8042\n",
            "Epoch 7/40\n",
            "30/30 [==============================] - 6s 193ms/step - loss: 0.5150 - accuracy: 0.8430 - val_loss: 0.5166 - val_accuracy: 0.8211\n",
            "Epoch 8/40\n",
            "30/30 [==============================] - 5s 165ms/step - loss: 0.4638 - accuracy: 0.8602 - val_loss: 0.4744 - val_accuracy: 0.8345\n",
            "Epoch 9/40\n",
            "30/30 [==============================] - 6s 198ms/step - loss: 0.4153 - accuracy: 0.8779 - val_loss: 0.4379 - val_accuracy: 0.8453\n",
            "Epoch 10/40\n",
            "30/30 [==============================] - 5s 164ms/step - loss: 0.3723 - accuracy: 0.8930 - val_loss: 0.4069 - val_accuracy: 0.8534\n",
            "Epoch 11/40\n",
            "30/30 [==============================] - 4s 139ms/step - loss: 0.3355 - accuracy: 0.9020 - val_loss: 0.3807 - val_accuracy: 0.8610\n",
            "Epoch 12/40\n",
            "30/30 [==============================] - 6s 199ms/step - loss: 0.3035 - accuracy: 0.9105 - val_loss: 0.3604 - val_accuracy: 0.8670\n",
            "Epoch 13/40\n",
            "30/30 [==============================] - 3s 106ms/step - loss: 0.2765 - accuracy: 0.9172 - val_loss: 0.3439 - val_accuracy: 0.8720\n",
            "Epoch 14/40\n",
            "30/30 [==============================] - 4s 126ms/step - loss: 0.2524 - accuracy: 0.9249 - val_loss: 0.3302 - val_accuracy: 0.8741\n",
            "Epoch 15/40\n",
            "30/30 [==============================] - 5s 153ms/step - loss: 0.2317 - accuracy: 0.9317 - val_loss: 0.3189 - val_accuracy: 0.8763\n",
            "Epoch 16/40\n",
            "30/30 [==============================] - 3s 90ms/step - loss: 0.2134 - accuracy: 0.9382 - val_loss: 0.3097 - val_accuracy: 0.8798\n",
            "Epoch 17/40\n",
            "30/30 [==============================] - 4s 123ms/step - loss: 0.1974 - accuracy: 0.9422 - val_loss: 0.3026 - val_accuracy: 0.8823\n",
            "Epoch 18/40\n",
            "30/30 [==============================] - 3s 94ms/step - loss: 0.1821 - accuracy: 0.9469 - val_loss: 0.2965 - val_accuracy: 0.8827\n",
            "Epoch 19/40\n",
            "30/30 [==============================] - 4s 131ms/step - loss: 0.1684 - accuracy: 0.9535 - val_loss: 0.2918 - val_accuracy: 0.8835\n",
            "Epoch 20/40\n",
            "30/30 [==============================] - 2s 85ms/step - loss: 0.1563 - accuracy: 0.9579 - val_loss: 0.2878 - val_accuracy: 0.8870\n",
            "Epoch 21/40\n",
            "30/30 [==============================] - 4s 132ms/step - loss: 0.1449 - accuracy: 0.9625 - val_loss: 0.2846 - val_accuracy: 0.8865\n",
            "Epoch 22/40\n",
            "30/30 [==============================] - 3s 97ms/step - loss: 0.1346 - accuracy: 0.9655 - val_loss: 0.2813 - val_accuracy: 0.8876\n",
            "Epoch 23/40\n",
            "30/30 [==============================] - 4s 140ms/step - loss: 0.1251 - accuracy: 0.9693 - val_loss: 0.2798 - val_accuracy: 0.8868\n",
            "Epoch 24/40\n",
            "30/30 [==============================] - 4s 118ms/step - loss: 0.1167 - accuracy: 0.9720 - val_loss: 0.2786 - val_accuracy: 0.8883\n",
            "Epoch 25/40\n",
            "30/30 [==============================] - 3s 88ms/step - loss: 0.1090 - accuracy: 0.9748 - val_loss: 0.2786 - val_accuracy: 0.8883\n",
            "Epoch 26/40\n",
            "30/30 [==============================] - 2s 56ms/step - loss: 0.1013 - accuracy: 0.9782 - val_loss: 0.2766 - val_accuracy: 0.8893\n",
            "Epoch 27/40\n",
            "30/30 [==============================] - 4s 128ms/step - loss: 0.0942 - accuracy: 0.9805 - val_loss: 0.2772 - val_accuracy: 0.8892\n",
            "Epoch 28/40\n",
            "30/30 [==============================] - 3s 90ms/step - loss: 0.0881 - accuracy: 0.9819 - val_loss: 0.2773 - val_accuracy: 0.8901\n",
            "Epoch 29/40\n",
            "30/30 [==============================] - 3s 105ms/step - loss: 0.0823 - accuracy: 0.9836 - val_loss: 0.2785 - val_accuracy: 0.8891\n",
            "Epoch 30/40\n",
            "30/30 [==============================] - 2s 56ms/step - loss: 0.0768 - accuracy: 0.9853 - val_loss: 0.2793 - val_accuracy: 0.8893\n",
            "Epoch 31/40\n",
            "30/30 [==============================] - 2s 65ms/step - loss: 0.0721 - accuracy: 0.9865 - val_loss: 0.2799 - val_accuracy: 0.8895\n",
            "Epoch 32/40\n",
            "30/30 [==============================] - 4s 154ms/step - loss: 0.0673 - accuracy: 0.9880 - val_loss: 0.2811 - val_accuracy: 0.8897\n",
            "Epoch 33/40\n",
            "30/30 [==============================] - 2s 60ms/step - loss: 0.0632 - accuracy: 0.9892 - val_loss: 0.2818 - val_accuracy: 0.8888\n",
            "Epoch 34/40\n",
            "30/30 [==============================] - 2s 74ms/step - loss: 0.0591 - accuracy: 0.9900 - val_loss: 0.2838 - val_accuracy: 0.8898\n",
            "Epoch 35/40\n",
            "30/30 [==============================] - 2s 62ms/step - loss: 0.0555 - accuracy: 0.9906 - val_loss: 0.2857 - val_accuracy: 0.8891\n",
            "Epoch 36/40\n",
            "30/30 [==============================] - 2s 77ms/step - loss: 0.0521 - accuracy: 0.9913 - val_loss: 0.2881 - val_accuracy: 0.8887\n",
            "Epoch 37/40\n",
            "30/30 [==============================] - 4s 127ms/step - loss: 0.0490 - accuracy: 0.9923 - val_loss: 0.2911 - val_accuracy: 0.8885\n",
            "Epoch 38/40\n",
            "30/30 [==============================] - 2s 66ms/step - loss: 0.0460 - accuracy: 0.9931 - val_loss: 0.2924 - val_accuracy: 0.8884\n",
            "Epoch 39/40\n",
            "30/30 [==============================] - 2s 51ms/step - loss: 0.0435 - accuracy: 0.9935 - val_loss: 0.2944 - val_accuracy: 0.8874\n",
            "Epoch 40/40\n",
            "30/30 [==============================] - 2s 57ms/step - loss: 0.0406 - accuracy: 0.9941 - val_loss: 0.2967 - val_accuracy: 0.8872\n"
          ]
        },
        {
          "output_type": "execute_result",
          "data": {
            "text/plain": [
              "<keras.callbacks.History at 0x7a5b7a49f2e0>"
            ]
          },
          "metadata": {},
          "execution_count": 34
        }
      ]
    },
    {
      "cell_type": "code",
      "source": [
        "# Evaluate the model\n",
        "\n",
        "test_loss, test_acc = model.evaluate(test_data, test_labels)\n",
        "\n",
        "print(f\"Test accuracy = {test_acc}\")\n",
        "print(f\"Test loss = {test_loss}\")"
      ],
      "metadata": {
        "colab": {
          "base_uri": "https://localhost:8080/"
        },
        "id": "JWl2dZSHuedf",
        "outputId": "9576e2f6-8e3f-421e-dc5b-3b047b554f63"
      },
      "execution_count": 35,
      "outputs": [
        {
          "output_type": "stream",
          "name": "stdout",
          "text": [
            "782/782 [==============================] - 2s 3ms/step - loss: 0.3298 - accuracy: 0.8721\n",
            "Test accuracy = 0.8721200227737427\n",
            "Test loss = 0.3297561705112457\n"
          ]
        }
      ]
    },
    {
      "cell_type": "code",
      "source": [
        "# Test the model on a random test review\n",
        "\n",
        "test_review = test_data[0]\n",
        "predict = model.predict(np.array([test_review]))\n",
        "print(f\"Review: \\n {decode_review(test_review)}\")\n",
        "print(f\"Actual label: {str(test_labels[0])}\")\n",
        "print(f\"Prediction: {str(predict[0])}\")"
      ],
      "metadata": {
        "colab": {
          "base_uri": "https://localhost:8080/"
        },
        "id": "L6LX5HN7vIgy",
        "outputId": "de23820e-df77-4a01-be37-8015471fb35c"
      },
      "execution_count": 36,
      "outputs": [
        {
          "output_type": "stream",
          "name": "stdout",
          "text": [
            "1/1 [==============================] - 0s 56ms/step\n",
            "Review: \n",
            " <START> please give this one a miss br br kristy swanson and the rest of the cast rendered terrible performances the show is flat flat flat br br i don't know how michael madison could have allowed this one on his plate he almost seemed to know this wasn't going to work out and his performance was quite lacklustre so all you madison fans give this a miss <PAD> <PAD> <PAD> <PAD> <PAD> <PAD> <PAD> <PAD> <PAD> <PAD> <PAD> <PAD> <PAD> <PAD> <PAD> <PAD> <PAD> <PAD> <PAD> <PAD> <PAD> <PAD> <PAD> <PAD> <PAD> <PAD> <PAD> <PAD> <PAD> <PAD> <PAD> <PAD> <PAD> <PAD> <PAD> <PAD> <PAD> <PAD> <PAD> <PAD> <PAD> <PAD> <PAD> <PAD> <PAD> <PAD> <PAD> <PAD> <PAD> <PAD> <PAD> <PAD> <PAD> <PAD> <PAD> <PAD> <PAD> <PAD> <PAD> <PAD> <PAD> <PAD> <PAD> <PAD> <PAD> <PAD> <PAD> <PAD> <PAD> <PAD> <PAD> <PAD> <PAD> <PAD> <PAD> <PAD> <PAD> <PAD> <PAD> <PAD> <PAD> <PAD> <PAD> <PAD> <PAD> <PAD> <PAD> <PAD> <PAD> <PAD> <PAD> <PAD> <PAD> <PAD> <PAD> <PAD> <PAD> <PAD> <PAD> <PAD> <PAD> <PAD> <PAD> <PAD> <PAD> <PAD> <PAD> <PAD> <PAD> <PAD> <PAD> <PAD> <PAD> <PAD> <PAD> <PAD> <PAD> <PAD> <PAD> <PAD> <PAD> <PAD> <PAD> <PAD> <PAD> <PAD> <PAD> <PAD> <PAD> <PAD> <PAD> <PAD> <PAD> <PAD> <PAD> <PAD> <PAD> <PAD> <PAD> <PAD> <PAD> <PAD> <PAD> <PAD> <PAD> <PAD> <PAD> <PAD> <PAD> <PAD> <PAD> <PAD> <PAD> <PAD> <PAD> <PAD> <PAD> <PAD> <PAD> <PAD> <PAD> <PAD> <PAD> <PAD> <PAD> <PAD> <PAD> <PAD> <PAD> <PAD> <PAD> <PAD> <PAD> <PAD> <PAD> <PAD> <PAD> <PAD> <PAD> <PAD> <PAD> <PAD>\n",
            "Actual label: 0\n",
            "Prediction: [0.0821257]\n"
          ]
        }
      ]
    },
    {
      "cell_type": "code",
      "source": [
        "# save the model\n",
        "\n",
        "model.save(\"movie_review_model.h5\")"
      ],
      "metadata": {
        "id": "BYJ9EVRXwY6-"
      },
      "execution_count": 37,
      "outputs": []
    },
    {
      "cell_type": "code",
      "source": [
        "# load the saved model\n",
        "\n",
        "saved_model = keras.models.load_model(\"movie_review_model.h5\")"
      ],
      "metadata": {
        "id": "we43rOw83rCP"
      },
      "execution_count": 38,
      "outputs": []
    },
    {
      "cell_type": "code",
      "source": [
        "# convert string into list of numbers\n",
        "\n",
        "def review_encode(s):\n",
        "  encoded = [1]\n",
        "\n",
        "  for word in s:\n",
        "    if word in word_index:\n",
        "      encoded.append(word_index[word])\n",
        "    else:\n",
        "      encoded.append(2)\n",
        "\n",
        "  return encoded"
      ],
      "metadata": {
        "id": "F8Ydsoob7Gz9"
      },
      "execution_count": 39,
      "outputs": []
    },
    {
      "cell_type": "code",
      "source": [
        "# test the loaded model on a review in text.txt file\n",
        "\n",
        "text = \"Delightful animated feature from Walt Disney Pictures about a naive young lion cub destined for greatness. Born the son of a beloved and authoritative king he's groomed to be the next ruler of the kingdom, but along the way he encounters tragic detours at the hands of his villainous uncle and scheming hyena henchmen. Years later—as an adult—he decides to embrace his destiny and take his proper place in the Circle of Life. Warm, intelligent, laugh-out loud funny film is a triumph in every aspect; unforgettable songs, snappy dialogue, remarkable animation, and a stellar cast of voices make this a treat for all ages. A rousing adventure that you can enjoy again and again, and arguably one of the finest animated films ever made.\""
      ],
      "metadata": {
        "id": "ZfsyiqwO4VbR"
      },
      "execution_count": 40,
      "outputs": []
    },
    {
      "cell_type": "code",
      "source": [
        "encode = review_encode(text)\n",
        "encode = keras.preprocessing.sequence.pad_sequences([encode], value=word_index[\"<PAD>\"], padding='post', maxlen=250)\n",
        "predict = saved_model.predict(encode)\n",
        "print(f\"Review: {text}\")\n",
        "print(f\"Encoded review: {encode}\")\n",
        "print(f\"Prediction: {predict[0]}\")\n"
      ],
      "metadata": {
        "colab": {
          "base_uri": "https://localhost:8080/"
        },
        "id": "CNdClegw7c0U",
        "outputId": "7cbb7484-f5f7-4946-b717-18e5af35d114"
      },
      "execution_count": 41,
      "outputs": [
        {
          "output_type": "stream",
          "name": "stdout",
          "text": [
            "1/1 [==============================] - 0s 56ms/step\n",
            "Review: Delightful animated feature from Walt Disney Pictures about a naive young lion cub destined for greatness. Born the son of a beloved and authoritative king he's groomed to be the next ruler of the kingdom, but along the way he encounters tragic detours at the hands of his villainous uncle and scheming hyena henchmen. Years later—as an adult—he decides to embrace his destiny and take his proper place in the Circle of Life. Warm, intelligent, laugh-out loud funny film is a triumph in every aspect; unforgettable songs, snappy dialogue, remarkable animation, and a stellar cast of voices make this a treat for all ages. A rousing adventure that you can enjoy again and again, and arguably one of the finest animated films ever made.\n",
            "Encoded review: [[  13 3363    2  963 1964  963 1479 5135    2    6  590 1657  963 1148\n",
            "   830    2    2 1206 3363 1209 1604 1479 1331  963  830  830    6  503\n",
            "  2014  963    2  590 1604 3363 1331  590    2    2  590 3363    6 1657\n",
            "  1657 5135    2 1095   13    6 2014 1604 1331 1206  963    2    2 1479\n",
            "   963 1983    6 1479 2295    6  503 2014  963    2    6 3363   13 1983\n",
            "     6  830   13 1604 3363    2    2    6 3363 1095    2    6    2  590\n",
            "   830  963 2014 2014    6 1479    2 1148    6  590  830    2 1604 1209\n",
            "     2 1964 1604   13 1148  963  590    2 1983    6 2295  963    2  830\n",
            "  2023   13  590    2    6    2  830 1479  963    6  830    2 1209 1604\n",
            "  1479    2    6 2014 2014    2    6 1331  963  590    2    2    2    2\n",
            "  1479 1604 1206  590   13 3363 1331    2    6 1095 1964  963 3363  830\n",
            "  1206 1479  963    2  830 2023    6  830    2 5135 1604 1206    2 1148\n",
            "     6 3363    2  963 3363 1468 1604 5135    2    6 1331    6   13 3363\n",
            "     2    6 3363 1095    2    6 1331    6   13 3363    2    2    6 3363\n",
            "  1095    2    6 1479 1331 1206    6  503 2014 5135    2 1604 3363  963\n",
            "     2 1604 1209    2  830 2023  963    2 1209   13 3363  963  590  830\n",
            "     2    6 3363   13 1983    6  830  963 1095    2 1209   13 2014 1983\n",
            "   590    2  963 1964  963 1479    2 1983    6 1095  963    2]]\n",
            "Prediction: [2.9755956e-06]\n"
          ]
        }
      ]
    },
    {
      "cell_type": "code",
      "source": [],
      "metadata": {
        "id": "w66YxWME8X_o"
      },
      "execution_count": 41,
      "outputs": []
    }
  ]
}